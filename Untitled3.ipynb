{
 "cells": [
  {
   "cell_type": "code",
   "execution_count": 5,
   "id": "0b0b7722",
   "metadata": {},
   "outputs": [
    {
     "name": "stdout",
     "output_type": "stream",
     "text": [
      " Please enter the weight of packages: 4\n",
      "your package weight is 4 and your shipping charges is 3.00 dollars\n"
     ]
    }
   ],
   "source": [
    "weightofpackage = int(input(\" Please enter the weight of packages: \"))\n",
    "if weightofpackage <= 2:\n",
    "    shippingcharge = 1.50\n",
    "elif weightofpackage < 7:\n",
    "    shippingcharge = 3.00\n",
    "elif weightofpackage < 11:\n",
    "    shippingcharge = 4.00\n",
    "else:\n",
    "    shippingcharge = 4.75\n",
    "\n",
    "print(\"your package weight is \" + str(weightofpackage)+ \" and your shipping charges is \" + format(shippingcharge, \",.2f\")+\" dollars\")\n",
    "\n"
   ]
  },
  {
   "cell_type": "code",
   "execution_count": null,
   "id": "caa5244a",
   "metadata": {},
   "outputs": [],
   "source": []
  }
 ],
 "metadata": {
  "kernelspec": {
   "display_name": "Python 3",
   "language": "python",
   "name": "python3"
  },
  "language_info": {
   "codemirror_mode": {
    "name": "ipython",
    "version": 3
   },
   "file_extension": ".py",
   "mimetype": "text/x-python",
   "name": "python",
   "nbconvert_exporter": "python",
   "pygments_lexer": "ipython3",
   "version": "3.8.8"
  }
 },
 "nbformat": 4,
 "nbformat_minor": 5
}
