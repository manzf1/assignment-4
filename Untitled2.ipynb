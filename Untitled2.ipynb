{
 "cells": [
  {
   "cell_type": "code",
   "execution_count": 1,
   "id": "62c650e3",
   "metadata": {},
   "outputs": [
    {
     "name": "stdout",
     "output_type": "stream",
     "text": [
      " How many would you like to purchased?/n15\n",
      "The discount saved is  10.0 %,\n",
      "The total amount of the current cost is $ 1336.5\n"
     ]
    }
   ],
   "source": [
    "package = 99\n",
    "quantity = int(input(\" How many would you like to purchased?/n\"))\n",
    "discount = 0\n",
    "if quantity >=10 and quantity <=19:\n",
    "    discount = .1\n",
    "elif quantity >=20 and quantity <= 49:\n",
    "    discount = .2\n",
    "elif quantity >=50 and quantity <100:\n",
    "    discount = .3\n",
    "elif quantity >=100:\n",
    "    discount = .4\n",
    "    \n",
    "total_amount = package*quantity*(1-discount)\n",
    "print(\"The discount saved is \", discount*100, \"%,\")\n",
    "print(\"The total amount of the current cost is $\", total_amount)"
   ]
  },
  {
   "cell_type": "code",
   "execution_count": null,
   "id": "9563840b",
   "metadata": {},
   "outputs": [],
   "source": []
  },
  {
   "cell_type": "code",
   "execution_count": null,
   "id": "5404ea77",
   "metadata": {},
   "outputs": [],
   "source": []
  }
 ],
 "metadata": {
  "kernelspec": {
   "display_name": "Python 3",
   "language": "python",
   "name": "python3"
  },
  "language_info": {
   "codemirror_mode": {
    "name": "ipython",
    "version": 3
   },
   "file_extension": ".py",
   "mimetype": "text/x-python",
   "name": "python",
   "nbconvert_exporter": "python",
   "pygments_lexer": "ipython3",
   "version": "3.8.8"
  }
 },
 "nbformat": 4,
 "nbformat_minor": 5
}
